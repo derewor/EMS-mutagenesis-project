{
  "nbformat": 4,
  "nbformat_minor": 0,
  "metadata": {
    "colab": {
      "provenance": [],
      "authorship_tag": "ABX9TyNCQKDV5Jlfr1u66JpXqs2I",
      "include_colab_link": true
    },
    "kernelspec": {
      "name": "python3",
      "display_name": "Python 3"
    },
    "language_info": {
      "name": "python"
    }
  },
  "cells": [
    {
      "cell_type": "markdown",
      "metadata": {
        "id": "view-in-github",
        "colab_type": "text"
      },
      "source": [
        "<a href=\"https://colab.research.google.com/github/derewor/EMS-mutagenesis-project/blob/main/EMS_mutagenesis.ipynb\" target=\"_parent\"><img src=\"https://colab.research.google.com/assets/colab-badge.svg\" alt=\"Open In Colab\"/></a>"
      ]
    },
    {
      "cell_type": "code",
      "execution_count": null,
      "metadata": {
        "id": "dqg9O2GovXNa"
      },
      "outputs": [],
      "source": [
        "### EMS mutagenesis analysis code on BIGQUERY.\n",
        "# project name= SEQURNCE ANALYSIS\n",
        "# dataset name = emsmutagenesis\n",
        "# This cte is cleaned data for all bugs.\n",
        "WIth joined_table AS\n",
        "(SELECT CASE\n",
        "    WHEN REPLACE(REPLACE(h.position,'-','') ,'/','') is null AND REPLACE(REPLACE(j.position,'-',''),'/','') is null and REPLACE(REPLACE(g.position,'-',''),'/','') is null THEN 'L7D'\n",
        "    WHEN REPLACE(REPLACE(d.position,'-',''),'/','') is null AND REPLACE(REPLACE(j.position,'-',''),'/','') is null and REPLACE(REPLACE(g.position,'-',''),'/','') is null THEN 'L21H'\n",
        "    WHEN REPLACE(REPLACE(d.position,'-',''),'/','') is null AND REPLACE(REPLACE(h.position,'-',''),'/','') is null and REPLACE(REPLACE(g.position,'-',''),'/','') is null THEN 'L13J'\n",
        "    WHEN REPLACE(REPLACE(d.position,'-',''),'/','') is null AND REPLACE(REPLACE(h.position,'-',''),'/','') is null and REPLACE(REPLACE(j.position,'-',''),'/','') is null THEN 'L17J'\n",
        "            WHEN REPLACE(REPLACE(h.position,'-',''),'/','') is null and REPLACE(REPLACE(g.position,'-',''),'/','') is null THEN 'L7D_13J'\n",
        "            WHEN REPLACE(REPLACE(j.position,'-',''),'/','') is null and REPLACE(REPLACE(h.position,'-',''),'/','') is null THEN 'L7D_17J'\n",
        "            WHEN REPLACE(REPLACE(j.position,'-',''),'/','') is null and REPLACE(REPLACE(g.position,'-',''),'/','') is null THEN 'L7D_21H'\n",
        "            WHEN REPLACE(REPLACE(d.position,'-',''),'/','') is null and REPLACE(REPLACE(h.position,'-',''),'/','') is null THEN 'L13J_17J'\n",
        "            WHEN REPLACE(REPLACE(d.position,'-',''),'/','') is null and REPLACE(REPLACE(g.position,'-',''),'/','') is null THEN 'L13J_21H'\n",
        "            WHEN REPLACE(REPLACE(d.position,'-',''),'/','') is null and REPLACE(REPLACE(j.position,'-',''),'/','') is null THEN 'L21H_17J'\n",
        "                  WHEN REPLACE(REPLACE(d.position,'-',''),'/','') is null THEN 'L21H_17J_13J'\n",
        "                  WHEN REPLACE(REPLACE(h.position,'-',''),'/','') is null THEN 'L7D_17J_13J'\n",
        "                  WHEN REPLACE(REPLACE(g.position,'-',''),'/','') is null THEN 'L21H_7D_13J'\n",
        "                  WHEN REPLACE(REPLACE(j.position,'-',''),'/','') is null THEN 'L21H_17J_7D'\n",
        "                  ELSE 'ALL_PRESENCE' END as line_type,\n",
        "                  RIGHT(d.chromosome, 1) as chrom1, CAST(REPLACE(REPLACE(d.position,'-',''),'/','') AS INT) as pos1, d. reference_seq AS ref_seq, d.alternative_seq As alt_seq,\n",
        "                  RIGHT(h.chromosome, 1) as chrom2, CAST(REPLACE(REPLACE(h.position,'-',''),'/','') AS INT) as pos2, h.reference_seq AS ref_seq2, h.alternative_seq As alt_seq2,\n",
        "                  RIGHT(g.chromosome, 1) as chrom3, CAST(REPLACE(REPLACE(g.position,'-',''),'/','') AS INT) as pos3, g.reference_seq AS ref_seq3, g.alternative_seq As alt_seq3,\n",
        "                  RIGHT(j.chromosome, 1) as chrom4, CAST(REPLACE(REPLACE(j.position,'-',''),'/','') AS INT) as pos4, j.reference_seq AS ref_seq4, j.alternative_seq As alt_seq4\n",
        "FROM `sequence-analysis-425810.emsmutagenesis.emsline7d` d\n",
        "  FULL JOIN `sequence-analysis-425810.emsmutagenesis.emsline21h` h ON REPLACE(REPLACE(d.position,'-',''),'/','') = REPLACE(REPLACE(h.position,'-',''),'/','')\n",
        "  FULL JOIN `sequence-analysis-425810.emsmutagenesis.emsline13j` j ON REPLACE(REPLACE(h.position,'-',''),'/','') = REPLACE(REPLACE(j.position,'-',''),'/','')\n",
        "  FULL JOIN `sequence-analysis-425810.emsmutagenesis.emsline17j` g ON REPLACE(REPLACE(h.position,'-',''),'/','') = REPLACE(REPLACE(g.position,'-',''),'/','')\n",
        "\n",
        "ORDER BY d.chromosome, d.position)"
      ]
    },
    {
      "cell_type": "code",
      "source": [
        "## This is written to select SNPs specific to line L7D from the cte.\n",
        "\tSELECT *\n",
        "\tFROM joined_table jt\n",
        "\tWHERE line_type = 'L7D'\n",
        "\tORDER BY chrom1, pos1;"
      ],
      "metadata": {
        "id": "elea6tonwedP"
      },
      "execution_count": null,
      "outputs": []
    },
    {
      "cell_type": "code",
      "source": [
        "## This is written to select SNPs specific to line L13J from the cte.\n",
        "\tSELECT *\n",
        "\tFROM joined_table jt\n",
        "\tWHERE line_type = 'L13J'\n",
        "\tORDER BY chrom4, pos4;"
      ],
      "metadata": {
        "id": "ZmGRHnP-wciR"
      },
      "execution_count": null,
      "outputs": []
    },
    {
      "cell_type": "code",
      "source": [
        "## This is written to select SNPs specific to line L17J from the cte.\n",
        "\tSELECT *\n",
        "\tFROM joined_table jt\n",
        "\tWHERE line_type = 'L17J' AND chrom3 IN ('2','5')\n",
        "\tORDER BY chrom3, pos3;"
      ],
      "metadata": {
        "id": "pckWWItowaK5"
      },
      "execution_count": null,
      "outputs": []
    },
    {
      "cell_type": "code",
      "source": [
        "## This is written to select SNPs specific to line 21H from the cte.\n",
        "\tSELECT *\n",
        "\tFROM joined_table jt\n",
        "\tWHERE line_type = 'L21H' AND chrom2 IN ('2','5')\n",
        "\tORDER BY chrom2, pos2;"
      ],
      "metadata": {
        "id": "i3cgjI17wXRe"
      },
      "execution_count": null,
      "outputs": []
    },
    {
      "cell_type": "code",
      "source": [
        "##Further SNP and indel characterization of line 17J.\n",
        "\n",
        "With extracted_L17J AS\n",
        "\t(SELECT line_type, chrom3, pos3, ref_seq3, alt_seq3\n",
        "\t FROM `sequence-analysis-425810.emsmutagenesis.L17J`),\n",
        "cleaned_L17J AS\n",
        "(\n",
        "\tSELECT *\n",
        "\tFROM extracted_L17J\n",
        "\tWHERE ref_seq3 != 'N' or alt_seq3 != 'N')\n",
        "\n",
        "\tSELECT *\n",
        "\tFROM cleaned_L17J\n",
        "\tWHERE length(ref_seq3) = 1 and length(alt_seq3) = 1 AND chrom3 = 2;"
      ],
      "metadata": {
        "id": "0Yc8n8KswSl4"
      },
      "execution_count": null,
      "outputs": []
    },
    {
      "cell_type": "code",
      "source": [
        "SELECT *\n",
        "\tFROM cleaned_L17J\n",
        "\tWHERE length(ref_seq3) = 1 and length(alt_seq3) = 1 AND chrom3 = 5;"
      ],
      "metadata": {
        "id": "KS5pomZewQkj"
      },
      "execution_count": null,
      "outputs": []
    },
    {
      "cell_type": "code",
      "source": [
        "SELECT *, length(ref_seq3) AS ref_nucleo_num, length(alt_seq3) AS alt_nucleo_num, length(ref_seq3) -  length(alt_seq3) AS diff_nucl,\n",
        "        \t CASE WHEN length(ref_seq3) -  length(alt_seq3) > 0 THEN 'DELETION'\n",
        "            \tWHEN length(ref_seq3) -  length(alt_seq3) < 0 THEN 'INSERTION'\n",
        "            \tELSE 'UNCHANGED'\n",
        "            \tEND AS indel\n",
        "\tFROM cleaned_L17J\n",
        "\tWHERE length(ref_seq3) > 1 and length(alt_seq3) > 1 AND chrom3 = 2;"
      ],
      "metadata": {
        "id": "SRYu_d4hwJBj"
      },
      "execution_count": null,
      "outputs": []
    },
    {
      "cell_type": "code",
      "source": [
        "SELECT *, length(ref_seq3) AS ref_nucleo_num, length(alt_seq3) AS alt_nucleo_num, length(ref_seq3) -  length(alt_seq3) AS diff_nucl,\n",
        "         \tCASE WHEN length(ref_seq3) -  length(alt_seq3) > 0 THEN 'DELETION'\n",
        "            \tWHEN length(ref_seq3) -  length(alt_seq3) < 0 THEN 'INSERTION'\n",
        "            \tELSE 'UNCHANGED'\n",
        "            \tEND AS indel\n",
        "\tFROM cleaned_L17J\n",
        "\tWHERE length(ref_seq3) > 1 and length(alt_seq3) > 1 AND chrom3 = 5;"
      ],
      "metadata": {
        "id": "fjx47u1bwCm5"
      },
      "execution_count": null,
      "outputs": []
    },
    {
      "cell_type": "code",
      "source": [
        "##Further SNP and INDEL Sequence characterization of line 21H\n",
        "\n",
        "With extracted_L21H AS\n",
        "\t(SELECT line_type, chrom2, pos2, ref_seq2, alt_seq2\n",
        "\t FROM `sequence-analysis-425810.emsmutagenesis.L21H`),\n",
        "cleaned_L21H AS\n",
        "(\n",
        "\tSELECT *\n",
        "\tFROM extracted_L21H\n",
        "\tWHERE ref_seq2 != 'N' or alt_seq2 != 'N')\n",
        "SELECT *\n",
        "\tFROM cleaned_L21H\n",
        "\tWHERE length(ref_seq2) = 1 and length(alt_seq2) = 1 AND chrom2 = 2"
      ],
      "metadata": {
        "id": "QCHs8UO2wAl8"
      },
      "execution_count": null,
      "outputs": []
    },
    {
      "cell_type": "code",
      "source": [
        "SELECT *\n",
        "\tFROM cleaned_L21H\n",
        "\tWHERE length(ref_seq2) = 1 and length(alt_seq2) = 1 AND chrom2 = 2"
      ],
      "metadata": {
        "id": "IoG2pE2Xv-n5"
      },
      "execution_count": null,
      "outputs": []
    },
    {
      "cell_type": "code",
      "source": [
        "SELECT *\n",
        "\tFROM cleaned_L21H\n",
        "\tWHERE length(ref_seq2) = 1 and length(alt_seq2) = 1 AND chrom2 = 5"
      ],
      "metadata": {
        "id": "_m99_R-_v7-p"
      },
      "execution_count": null,
      "outputs": []
    },
    {
      "cell_type": "code",
      "source": [
        "SELECT *, length(ref_seq2) AS ref_nucleo_num, length(alt_seq2) AS alt_nucleo_num, length(ref_seq2) -  length(alt_seq2) AS diff_nucl,\n",
        "\t         CASE WHEN length(ref_seq2) -  length(alt_seq2) > 0 THEN 'DELETION'\n",
        "\t         WHEN length(ref_seq2) -  length(alt_seq2) < 0 THEN 'INSERTION'\n",
        "\t         ELSE 'UNCHANGED'\n",
        "            \t END AS indel\n",
        "\tFROM cleaned_L21H\n",
        "\tWHERE length(ref_seq2) > 1 and length(alt_seq2) > 1 AND chrom2 = 2\n"
      ],
      "metadata": {
        "id": "fu5JnqyDv4om"
      },
      "execution_count": null,
      "outputs": []
    },
    {
      "cell_type": "code",
      "source": [
        "SELECT *, length(ref_seq2) AS ref_nucleo_num, length(alt_seq2) AS alt_nucleo_num, length(ref_seq2) -  length(alt_seq2) AS diff_nucl,\n",
        "\t\tCASE WHEN length(ref_seq2) -  length(alt_seq2) > 0 THEN 'DELETION'\n",
        "\t        WHEN length(ref_seq2) -  length(alt_seq2) < 0 THEN 'INSERTION'\n",
        "            \tELSE 'UNCHANGED'\n",
        "            \tEND AS indel\n",
        "\tFROM cleaned_L21H\n",
        "\tWHERE length(ref_seq2) > 1 and length(alt_seq2) > 1 AND chrom2 = 5"
      ],
      "metadata": {
        "id": "h44vVgL3v3z6"
      },
      "execution_count": null,
      "outputs": []
    }
  ]
}